{
 "cells": [
  {
   "cell_type": "markdown",
   "id": "f2a65595-dd9e-4337-8787-e7031f584368",
   "metadata": {},
   "source": [
    "# H1: H1 style headding"
   ]
  },
  {
   "cell_type": "markdown",
   "id": "647b681e-48fc-47d6-adde-3a9b2a107962",
   "metadata": {},
   "source": [
    "In this notebook, Data Science Tools and Ecosystem are summarized."
   ]
  },
  {
   "cell_type": "markdown",
   "id": "3d56fb26-4794-412d-8ea7-c936b2b8e024",
   "metadata": {},
   "source": [
    " **Objectives:** \n",
    "\n",
    "  * Listing popular languages Data Scientists use.\n",
    "  * Listing popular Libraries Data Scientists use.\n",
    "  * Simple arithmetic\n",
    "  * Createing a table\n",
    "  * Evaluating an arithmetic expression"
   ]
  },
  {
   "cell_type": "markdown",
   "id": "d535c8cc-0321-46a8-945b-6a4b1fd83e85",
   "metadata": {},
   "source": [
    "Some of the popular languages that Data Scientists use are:\n",
    "1. Python\n",
    "2. R\n",
    "3. c++"
   ]
  },
  {
   "cell_type": "markdown",
   "id": "d23be7fa-31c2-416e-8870-2dae478f3b82",
   "metadata": {},
   "source": [
    "Some of the commonly used libraries used by Data Scientists include:\n",
    "\n",
    "1. dplyr\n",
    "2. sstringr\n",
    "3. ggplot"
   ]
  },
  {
   "cell_type": "markdown",
   "id": "90476b88-8931-4ca3-8a02-dca7dbb80e7b",
   "metadata": {},
   "source": [
    "| Data Science Tools|\n",
    "|-|\n",
    "|NumPy|\n",
    "|Scikit-learn|\n",
    "|TensorFlow|\n"
   ]
  },
  {
   "cell_type": "markdown",
   "id": "7c087742-9212-4afc-8c77-26b8c5a97259",
   "metadata": {},
   "source": [
    "### Below are a few examples of evaluating arithmetic expressions in Python:"
   ]
  },
  {
   "cell_type": "code",
   "execution_count": 24,
   "id": "f6d3b204-dc1b-4b09-aba8-225fb9d298f2",
   "metadata": {},
   "outputs": [
    {
     "data": {
      "text/plain": [
       "17"
      ]
     },
     "execution_count": 24,
     "metadata": {},
     "output_type": "execute_result"
    }
   ],
   "source": [
    "#This a simple arithmetic expression to mutiply then add integers\n",
    "(3*4)+5"
   ]
  },
  {
   "cell_type": "code",
   "execution_count": 94,
   "id": "32d5f253-5f4d-4e38-a9c0-eb0336234412",
   "metadata": {},
   "outputs": [
    {
     "name": "stdout",
     "output_type": "stream",
     "text": [
      "200 minutes= 3.3333333333333335 hours\n"
     ]
    }
   ],
   "source": [
    "#This will convert 200 minutes to hours by diving by 60\n",
    "print(\"200 minutes=\",200/60, \"hours\")\n",
    "\n"
   ]
  },
  {
   "cell_type": "code",
   "execution_count": null,
   "id": "9eb09968-0b82-4d8d-9951-31e7b7dc8ab9",
   "metadata": {},
   "outputs": [],
   "source": []
  },
  {
   "cell_type": "markdown",
   "id": "dec054cd-586c-4c55-8800-3d3f7fb24b0f",
   "metadata": {},
   "source": [
    "## Author\n",
    "Aradhan"
   ]
  },
  {
   "cell_type": "code",
   "execution_count": null,
   "id": "ce9376c8-9ec0-4335-98dc-e1eb2e183aa1",
   "metadata": {},
   "outputs": [],
   "source": []
  }
 ],
 "metadata": {
  "kernelspec": {
   "display_name": "Python 3 (ipykernel)",
   "language": "python",
   "name": "python3"
  },
  "language_info": {
   "codemirror_mode": {
    "name": "ipython",
    "version": 3
   },
   "file_extension": ".py",
   "mimetype": "text/x-python",
   "name": "python",
   "nbconvert_exporter": "python",
   "pygments_lexer": "ipython3",
   "version": "3.12.4"
  }
 },
 "nbformat": 4,
 "nbformat_minor": 5
}
